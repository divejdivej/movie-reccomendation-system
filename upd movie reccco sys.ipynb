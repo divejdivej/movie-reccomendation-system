{
  "nbformat": 4,
  "nbformat_minor": 0,
  "metadata": {
    "colab": {
      "provenance": []
    },
    "kernelspec": {
      "name": "python3",
      "display_name": "Python 3"
    },
    "language_info": {
      "name": "python"
    }
  },
  "cells": [
    {
      "cell_type": "code",
      "execution_count": 9,
      "metadata": {
        "colab": {
          "base_uri": "https://localhost:8080/"
        },
        "id": "xcIoPK5JBWlM",
        "outputId": "489602c4-afd9-4b11-864d-5b743a8feeb8"
      },
      "outputs": [
        {
          "output_type": "stream",
          "name": "stdout",
          "text": [
            "6727                 europa report\n",
            "3460                      sunshine\n",
            "2032    mune: guardian of the moon\n",
            "8844                    red planet\n",
            "3085                     first man\n",
            "Name: title, dtype: object\n"
          ]
        }
      ],
      "source": [
        "import pandas as pd\n",
        "from sklearn.feature_extraction.text import TfidfVectorizer\n",
        "from sklearn.metrics.pairwise import cosine_similarity\n",
        "\n",
        "url = \"moviesdataset.csv\"\n",
        "movies_df = pd.read_csv(url)\n",
        "\n",
        "movies_df['overview'] = movies_df['overview'].fillna('')\n",
        "\n",
        "tfidf = TfidfVectorizer(stop_words='english')\n",
        "tfidf_matrix = tfidf.fit_transform(movies_df['overview'])\n",
        "\n",
        "cos_sim = cosine_similarity(tfidf_matrix, tfidf_matrix)\n",
        "\n",
        "def recommend(m_name, df, sim_matrix):\n",
        "    df['title'] = df['title'].str.lower()\n",
        "    m_name = m_name.lower()\n",
        "\n",
        "    if m_name not in df['title'].values:\n",
        "        return f\"Movie '{m_name}' not found in the dataset.\"\n",
        "\n",
        "    idx = df[df['title'] == m_name].index[0]\n",
        "    sim_scores = list(enumerate(sim_matrix[idx]))\n",
        "    sim_scores = sorted(sim_scores, key=lambda x: x[1], reverse=True)\n",
        "    sim_scores = sim_scores[1:6]\n",
        "    m_indices = [i[0] for i in sim_scores]\n",
        "    return df['title'].iloc[m_indices]\n",
        "\n",
        "print(recommend('apollo 18', movies_df, cos_sim))\n"
      ]
    }
  ]
}